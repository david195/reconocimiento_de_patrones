{
 "cells": [
  {
   "cell_type": "markdown",
   "metadata": {},
   "source": [
    "# Coeficiente de correlación de Mathews "
   ]
  },
  {
   "cell_type": "markdown",
   "metadata": {},
   "source": [
    "El coeficiente de correlación de Matthews(MCC) es una medida de la asociación entre dos variables binarias. se puede calcular directamente a partir de la matriz de confusión mediante la fórmula:\n",
    "\n",
    "MCC = $\\frac{TP×TN−FP×FN}{\\sqrt{(TP+FP)(TP+FN)(TN+FP)(TN+FN)}}$.\n",
    "\n",
    "En esta ecuación, TP es el número de verdaderos positivos, TN, el número de verdaderos negativos, FP el número de falsos positivos y FN el número de falsos negativos. Si alguna de las cuatro sumas de dinero en el denominador es cero, el denominador puede ser arbitrariamente a uno; esto se traduce en una Matthews coeficiente de correlación de cero, lo cual puede ser demostrado ser el correcto valor de limitación.\n"
   ]
  },
  {
   "cell_type": "code",
   "execution_count": 1,
   "metadata": {},
   "outputs": [],
   "source": [
    "#Uso de la biblioteca sklearn.metrics.matthews_corrcoef\n",
    "from sklearn.metrics import matthews_corrcoef\n",
    "from sklearn.metrics import confusion_matrix\n",
    "import numpy as np"
   ]
  },
  {
   "cell_type": "markdown",
   "metadata": {},
   "source": [
    "Matriz de confución ideal de dos variables:"
   ]
  },
  {
   "cell_type": "code",
   "execution_count": 2,
   "metadata": {},
   "outputs": [
    {
     "data": {
      "text/plain": [
       "array([[7, 0],\n",
       "       [0, 3]])"
      ]
     },
     "execution_count": 2,
     "metadata": {},
     "output_type": "execute_result"
    }
   ],
   "source": [
    "y_test = np.random.randint(low = 0, high=2, size=10)\n",
    "confusion_matrix(y_test,y_test)"
   ]
  },
  {
   "cell_type": "code",
   "execution_count": 3,
   "metadata": {},
   "outputs": [
    {
     "data": {
      "text/plain": [
       "1.0"
      ]
     },
     "execution_count": 3,
     "metadata": {},
     "output_type": "execute_result"
    }
   ],
   "source": [
    "matthews_corrcoef(y_test,y_test)"
   ]
  },
  {
   "cell_type": "markdown",
   "metadata": {},
   "source": [
    "Matriz de confución, erronea"
   ]
  },
  {
   "cell_type": "code",
   "execution_count": 4,
   "metadata": {},
   "outputs": [
    {
     "data": {
      "text/plain": [
       "array([[ 0, 44],\n",
       "       [56,  0]])"
      ]
     },
     "execution_count": 4,
     "metadata": {},
     "output_type": "execute_result"
    }
   ],
   "source": [
    "y_test = np.random.randint(low=0, high=2, size=100)\n",
    "y_pred = abs(y_test - 1)\n",
    "confusion_matrix(y_test, y_pred)"
   ]
  },
  {
   "cell_type": "code",
   "execution_count": 5,
   "metadata": {},
   "outputs": [
    {
     "data": {
      "text/plain": [
       "-1.0"
      ]
     },
     "execution_count": 5,
     "metadata": {},
     "output_type": "execute_result"
    }
   ],
   "source": [
    "matthews_corrcoef(y_test, y_pred)"
   ]
  },
  {
   "cell_type": "markdown",
   "metadata": {},
   "source": [
    "Matriz de confución, siempre la misma variable"
   ]
  },
  {
   "cell_type": "code",
   "execution_count": 6,
   "metadata": {},
   "outputs": [
    {
     "data": {
      "text/plain": [
       "array([[47,  0],\n",
       "       [53,  0]])"
      ]
     },
     "execution_count": 6,
     "metadata": {},
     "output_type": "execute_result"
    }
   ],
   "source": [
    "y_test = np.random.randint(low=0, high=2, size=100)\n",
    "#y_pred = y_test - np.random.randint(low=1, high=10, size=100)\n",
    "y_pred = np.zeros(100)\n",
    "confusion_matrix(y_test, y_pred)"
   ]
  },
  {
   "cell_type": "code",
   "execution_count": 7,
   "metadata": {},
   "outputs": [
    {
     "name": "stderr",
     "output_type": "stream",
     "text": [
      "/home/david/.local/lib/python3.6/site-packages/sklearn/metrics/classification.py:872: RuntimeWarning: invalid value encountered in double_scalars\n",
      "  mcc = cov_ytyp / np.sqrt(cov_ytyt * cov_ypyp)\n"
     ]
    },
    {
     "data": {
      "text/plain": [
       "0.0"
      ]
     },
     "execution_count": 7,
     "metadata": {},
     "output_type": "execute_result"
    }
   ],
   "source": [
    "matthews_corrcoef(y_test, y_pred)"
   ]
  },
  {
   "cell_type": "code",
   "execution_count": null,
   "metadata": {},
   "outputs": [],
   "source": []
  },
  {
   "cell_type": "markdown",
   "metadata": {},
   "source": [
    "# Precisión equilibrada (BAC) y tasa de error equilibrada (BER)"
   ]
  },
  {
   "cell_type": "markdown",
   "metadata": {},
   "source": [
    "La precisión equilibrada es el promedio de la sensibilidad y la especificidad, obtenida al umbralizar los valores de predicción en cero:\n",
    "\n",
    "BAC = 0.5 * ($\\frac{tp}{(tp + fn)}$ + $\\frac{tn}{(tn + fp)}$)\n",
    "\n",
    "La tasa de error equilibrada es su complemento a uno: BER = 1-BAC\n",
    "\n",
    "Donde tp son los verdaeros positivos, fp son los falsos positivos, tn son los verdaderos negativos y fn son los falsos negativos de la matriz de confusión."
   ]
  },
  {
   "cell_type": "code",
   "execution_count": null,
   "metadata": {},
   "outputs": [],
   "source": []
  },
  {
   "cell_type": "code",
   "execution_count": 8,
   "metadata": {},
   "outputs": [],
   "source": [
    "#Uso de la biblioteca sklearn.metrics.balanced_accuracy_score\n",
    "from sklearn.metrics import balanced_accuracy_score"
   ]
  },
  {
   "cell_type": "markdown",
   "metadata": {},
   "source": [
    "Matriz de confución ideal de dos variables:"
   ]
  },
  {
   "cell_type": "code",
   "execution_count": 9,
   "metadata": {},
   "outputs": [
    {
     "data": {
      "text/plain": [
       "array([[5, 0],\n",
       "       [0, 5]])"
      ]
     },
     "execution_count": 9,
     "metadata": {},
     "output_type": "execute_result"
    }
   ],
   "source": [
    "y_test = np.random.randint(low = 0, high=2, size=10)\n",
    "confusion_matrix(y_test,y_test)"
   ]
  },
  {
   "cell_type": "code",
   "execution_count": 10,
   "metadata": {},
   "outputs": [
    {
     "name": "stdout",
     "output_type": "stream",
     "text": [
      "BAC: 1.0 \n",
      "BER: 0.0 \n"
     ]
    }
   ],
   "source": [
    "print(\"BAC: {} \".format(balanced_accuracy_score(y_test,y_test)))\n",
    "print(\"BER: {} \".format(1 - balanced_accuracy_score(y_test,y_test)))"
   ]
  },
  {
   "cell_type": "markdown",
   "metadata": {},
   "source": [
    "Matriz de confución, erronea"
   ]
  },
  {
   "cell_type": "code",
   "execution_count": 11,
   "metadata": {},
   "outputs": [
    {
     "data": {
      "text/plain": [
       "array([[ 0, 54],\n",
       "       [46,  0]])"
      ]
     },
     "execution_count": 11,
     "metadata": {},
     "output_type": "execute_result"
    }
   ],
   "source": [
    "y_test = np.random.randint(low=0, high=2, size=100)\n",
    "y_pred = abs(y_test - 1)\n",
    "confusion_matrix(y_test, y_pred)"
   ]
  },
  {
   "cell_type": "code",
   "execution_count": 12,
   "metadata": {},
   "outputs": [
    {
     "name": "stdout",
     "output_type": "stream",
     "text": [
      "BAC: 1.0 \n",
      "BER: 0.0 \n"
     ]
    }
   ],
   "source": [
    "print(\"BAC: {} \".format(balanced_accuracy_score(y_test,y_test)))\n",
    "print(\"BER: {} \".format(1 - balanced_accuracy_score(y_test,y_test)))"
   ]
  },
  {
   "cell_type": "markdown",
   "metadata": {},
   "source": [
    "Matriz de confución, siempre la misma variable"
   ]
  },
  {
   "cell_type": "code",
   "execution_count": 13,
   "metadata": {},
   "outputs": [
    {
     "data": {
      "text/plain": [
       "array([[48,  0],\n",
       "       [52,  0]])"
      ]
     },
     "execution_count": 13,
     "metadata": {},
     "output_type": "execute_result"
    }
   ],
   "source": [
    "y_test = np.random.randint(low=0, high=2, size=100)\n",
    "#y_pred = y_test - np.random.randint(low=1, high=10, size=100)\n",
    "y_pred = np.zeros(100)\n",
    "confusion_matrix(y_test, y_pred)"
   ]
  },
  {
   "cell_type": "code",
   "execution_count": 14,
   "metadata": {},
   "outputs": [
    {
     "name": "stdout",
     "output_type": "stream",
     "text": [
      "BAC: 1.0 \n",
      "BER: 0.0 \n"
     ]
    }
   ],
   "source": [
    "print(\"BAC: {} \".format(balanced_accuracy_score(y_test,y_test)))\n",
    "print(\"BER: {} \".format(1 - balanced_accuracy_score(y_test,y_test)))"
   ]
  },
  {
   "cell_type": "code",
   "execution_count": null,
   "metadata": {},
   "outputs": [],
   "source": []
  },
  {
   "cell_type": "markdown",
   "metadata": {},
   "source": [
    "# Uso en un ejemplo practico"
   ]
  },
  {
   "cell_type": "code",
   "execution_count": 15,
   "metadata": {},
   "outputs": [],
   "source": [
    "from sklearn.datasets import load_iris\n",
    "from sklearn.preprocessing import StandardScaler\n",
    "from sklearn.model_selection import train_test_split\n",
    "\n",
    "X = load_iris().data\n",
    "y = load_iris().target\n",
    "\n",
    "#X = StandardScaler().fit_transform(X)\n",
    "X_train, X_test, y_train, y_test = \\\n",
    "    train_test_split(X, y, test_size=.3, random_state=42)"
   ]
  },
  {
   "cell_type": "code",
   "execution_count": 16,
   "metadata": {},
   "outputs": [],
   "source": [
    "from sklearn.naive_bayes import GaussianNB\n",
    "clf = GaussianNB()"
   ]
  },
  {
   "cell_type": "code",
   "execution_count": 17,
   "metadata": {},
   "outputs": [
    {
     "data": {
      "text/plain": [
       "GaussianNB(priors=None, var_smoothing=1e-09)"
      ]
     },
     "execution_count": 17,
     "metadata": {},
     "output_type": "execute_result"
    }
   ],
   "source": [
    "clf.fit(X_train,y_train)"
   ]
  },
  {
   "cell_type": "code",
   "execution_count": 18,
   "metadata": {},
   "outputs": [
    {
     "name": "stdout",
     "output_type": "stream",
     "text": [
      "Matriz de confusión: \n",
      "[[19  0  0]\n",
      " [ 0 12  0]\n",
      " [ 0  1 13]]\n",
      "\n",
      "accuracy: 0.9667927281716955\n",
      "\n",
      "MCC: 0.9667927281716955\n",
      "BAC: 0.9743589743589745\n",
      "BER: 0.02564102564102555\n"
     ]
    }
   ],
   "source": [
    "predict = clf.predict(X_test)\n",
    "print(\"Matriz de confusión: \\n{}\\n\".format(confusion_matrix(predict,y_test)))\n",
    "print(\"accuracy: {}\\n\".format(matthews_corrcoef(y_test, predict)))\n",
    "print(\"MCC: {}\".format(matthews_corrcoef(y_test, predict)))\n",
    "print(\"BAC: {}\".format(balanced_accuracy_score(y_test, predict)))\n",
    "print(\"BER: {}\".format(1-balanced_accuracy_score(y_test, predict)))\n"
   ]
  },
  {
   "cell_type": "code",
   "execution_count": null,
   "metadata": {},
   "outputs": [],
   "source": []
  },
  {
   "cell_type": "markdown",
   "metadata": {},
   "source": [
    "Se obtienen la mitad de los datos de forma aleatoria entre los indices 40-150 de modo que sean datos desbalanseados "
   ]
  },
  {
   "cell_type": "code",
   "execution_count": 19,
   "metadata": {},
   "outputs": [],
   "source": [
    "index = np.random.randint(low=40, high=150, size=75)\n",
    "X = load_iris().data[index]\n",
    "y = load_iris().target[index]\n",
    "\n",
    "#X = StandardScaler().fit_transform(X)\n",
    "X_train, X_test, y_train, y_test = \\\n",
    "    train_test_split(X, y, test_size=.5, random_state=42)"
   ]
  },
  {
   "cell_type": "code",
   "execution_count": 20,
   "metadata": {},
   "outputs": [
    {
     "name": "stdout",
     "output_type": "stream",
     "text": [
      "Datos con target 0: 9\n",
      "Datos con target 1: 33\n",
      "Datos con target 2: 33\n"
     ]
    }
   ],
   "source": [
    "print(\"Datos con target 0: {}\".format(sum((y==0)*1)))\n",
    "print(\"Datos con target 1: {}\".format(sum((y==1)*1)))\n",
    "print(\"Datos con target 2: {}\".format(sum((y==2)*1)))"
   ]
  },
  {
   "cell_type": "code",
   "execution_count": 21,
   "metadata": {},
   "outputs": [
    {
     "data": {
      "text/plain": [
       "GaussianNB(priors=None, var_smoothing=1e-09)"
      ]
     },
     "execution_count": 21,
     "metadata": {},
     "output_type": "execute_result"
    }
   ],
   "source": [
    "clf = GaussianNB()\n",
    "clf.fit(X_train,y_train)"
   ]
  },
  {
   "cell_type": "code",
   "execution_count": 22,
   "metadata": {},
   "outputs": [
    {
     "name": "stdout",
     "output_type": "stream",
     "text": [
      "Matriz de confusión: \n",
      "[[ 4  0  0]\n",
      " [ 2 15  1]\n",
      " [ 0  0 16]]\n",
      "\n",
      "accuracy: 0.8774586771515113\n",
      "\n",
      "MCC: 0.8774586771515113\n",
      "BAC: 0.8692810457516339\n",
      "BER: 0.1307189542483661\n"
     ]
    }
   ],
   "source": [
    "predict = clf.predict(X_test)\n",
    "print(\"Matriz de confusión: \\n{}\\n\".format(confusion_matrix(predict,y_test)))\n",
    "print(\"accuracy: {}\\n\".format(matthews_corrcoef(y_test, predict)))\n",
    "print(\"MCC: {}\".format(matthews_corrcoef(y_test, predict)))\n",
    "print(\"BAC: {}\".format(balanced_accuracy_score(y_test, predict)))\n",
    "print(\"BER: {}\".format(1-balanced_accuracy_score(y_test, predict)))"
   ]
  }
 ],
 "metadata": {
  "kernelspec": {
   "display_name": "Python 3",
   "language": "python",
   "name": "python3"
  },
  "language_info": {
   "codemirror_mode": {
    "name": "ipython",
    "version": 3
   },
   "file_extension": ".py",
   "mimetype": "text/x-python",
   "name": "python",
   "nbconvert_exporter": "python",
   "pygments_lexer": "ipython3",
   "version": "3.6.4"
  }
 },
 "nbformat": 4,
 "nbformat_minor": 2
}
