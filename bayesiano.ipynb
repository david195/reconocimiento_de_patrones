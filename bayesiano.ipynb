{
 "cells": [
  {
   "cell_type": "markdown",
   "metadata": {},
   "source": [
    "### Implementación de calsificador bayesiano usando el dataset iris"
   ]
  },
  {
   "cell_type": "code",
   "execution_count": 1,
   "metadata": {},
   "outputs": [],
   "source": [
    "#Carga de bibliotecas\n",
    "import numpy as np\n",
    "from sklearn.datasets import load_iris\n",
    "from sklearn.metrics import confusion_matrix\n",
    "data = load_iris().data\n",
    "ntest = 0.2\n",
    "nclass = 3"
   ]
  },
  {
   "cell_type": "code",
   "execution_count": 2,
   "metadata": {},
   "outputs": [],
   "source": [
    "#Definición vectorial de la funcion de probabilidad Gaussiana\n",
    "def gaussianPDF(x, m, s):\n",
    "    res = (1/(np.sqrt(2*np.pi)*s)) * np.exp(-1 * pow((x-m),2) / (2*s) )\n",
    "    l = x.shape[0]\n",
    "    return res"
   ]
  },
  {
   "cell_type": "code",
   "execution_count": 3,
   "metadata": {},
   "outputs": [
    {
     "name": "stdout",
     "output_type": "stream",
     "text": [
      "varianzas: \n",
      "[[0.121764   0.142276   0.029504   0.011264  ]\n",
      " [0.407659   0.224364   2.077356   0.317475  ]\n",
      " [0.68196027 0.18666006 3.07559119 0.57567587]]\n",
      "medias: \n",
      "[[5.006      3.418      1.464      0.244     ]\n",
      " [5.471      3.094      2.862      0.785     ]\n",
      " [5.84832215 3.05100671 3.77449664 1.20536913]]\n"
     ]
    }
   ],
   "source": [
    "#Entrenamiento\n",
    "vs = []\n",
    "means = []\n",
    "for i in range(0, 3):\n",
    "    index = np.arange(int((1-ntest)*i),int((i+1)*50))\n",
    "    x = data[index]\n",
    "    vs = np.append(vs, np.var(x,axis=0))\n",
    "    means = np.append(means,np.mean(x,axis=0))\n",
    "    \n",
    "vs = vs.reshape([3,4])\n",
    "means = means.reshape([3,4])\n",
    "print(\"varianzas: \\n{}\".format(vs))\n",
    "print(\"medias: \\n{}\".format(means))"
   ]
  },
  {
   "cell_type": "code",
   "execution_count": 4,
   "metadata": {},
   "outputs": [],
   "source": [
    "def classifique(x, m, s):\n",
    "    gpdf = gaussianPDF(x, m, s)\n",
    "    l = m.shape[0]\n",
    "    res = []\n",
    "    for i in range(0,l):\n",
    "        res = np.append(res,gpdf[i,0]*gpdf[i,1]*gpdf[i,2]*gpdf[i,3])\n",
    "    return(np.argmax(res))"
   ]
  },
  {
   "cell_type": "code",
   "execution_count": 5,
   "metadata": {},
   "outputs": [
    {
     "name": "stdout",
     "output_type": "stream",
     "text": [
      "indece del patron a clasificar: 61\n",
      "Patron a clasificar: [5.9 3.  4.2 1.5]\n",
      "Resultado esperado: 1\n",
      "Salida del clasificador: 2\n"
     ]
    }
   ],
   "source": [
    "#Clasificacion de un patron aleatorio\n",
    "y = load_iris().target[index]\n",
    "rn = np.random.randint(low=0, high=150)\n",
    "yy = load_iris().target[rn]\n",
    "cls = classifique(data[rn], means, vs)\n",
    "print(\"indece del patron a clasificar: {}\".format(rn))\n",
    "print(\"Patron a clasificar: {}\".format(data[rn]))\n",
    "print(\"Resultado esperado: {}\".format(yy))\n",
    "print(\"Salida del clasificador: {}\".format(cls))"
   ]
  },
  {
   "cell_type": "code",
   "execution_count": 6,
   "metadata": {},
   "outputs": [
    {
     "name": "stdout",
     "output_type": "stream",
     "text": [
      "accuracy : 0.9333333333333333\n",
      "Matriz de confusion: \n",
      "[[10  0  0]\n",
      " [ 0  8  2]\n",
      " [ 0  0 10]]\n"
     ]
    }
   ],
   "source": [
    "#Resultados con conjunto de prueba: 0.3 (15xclase) , entrenamiento: 0.7 (35xclase)\n",
    "index = np.concatenate([np.arange(50-int(ntest*50), 50), np.arange(100-int(ntest*50), 100), np.arange(150-int(ntest*50), 150)])\n",
    "y = load_iris().target[index]\n",
    "x = data[index]\n",
    "l = x.shape[0]\n",
    "predict = []\n",
    "for i in range(0, l):\n",
    "    cl = classifique(x[i],means,vs)\n",
    "    predict = np.append(predict, cl)\n",
    "accuracy = np.sum((predict==y) * 1)/l\n",
    "print(\"accuracy : {}\".format(accuracy))\n",
    "cfmatrix = confusion_matrix(y, predict)\n",
    "print(\"Matriz de confusion: \\n{}\".format(cfmatrix))"
   ]
  }
 ],
 "metadata": {
  "kernelspec": {
   "display_name": "Python 3",
   "language": "python",
   "name": "python3"
  },
  "language_info": {
   "codemirror_mode": {
    "name": "ipython",
    "version": 3
   },
   "file_extension": ".py",
   "mimetype": "text/x-python",
   "name": "python",
   "nbconvert_exporter": "python",
   "pygments_lexer": "ipython3",
   "version": "3.6.4"
  }
 },
 "nbformat": 4,
 "nbformat_minor": 2
}
